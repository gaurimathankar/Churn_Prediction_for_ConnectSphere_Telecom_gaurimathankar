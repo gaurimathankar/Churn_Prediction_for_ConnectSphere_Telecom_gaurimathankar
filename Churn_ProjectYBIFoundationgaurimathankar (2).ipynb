{
  "nbformat": 4,
  "nbformat_minor": 0,
  "metadata": {
    "colab": {
      "private_outputs": true,
      "provenance": []
    },
    "kernelspec": {
      "name": "python3",
      "display_name": "Python 3"
    },
    "language_info": {
      "name": "python"
    }
  },
  "cells": [
    {
      "cell_type": "markdown",
      "source": [
        "**Telecom Customer Churn Prediction**\n",
        "\n",
        "**Internship:** YBI Foundation\n",
        "\n",
        "**Your Name:** Gauri Prashant Mathankar\n",
        "\n",
        "**Submission Date:** 29 Aug 2025\n",
        "\n",
        "\n",
        "\n",
        "\n",
        "\n",
        "\n"
      ],
      "metadata": {
        "id": "3kmxoxL75LgD"
      }
    },
    {
      "cell_type": "markdown",
      "source": [
        "***1) Problem Statement / Objective ***\n",
        "\n",
        "\n",
        "## Problem Statement\n",
        "ConnectSphere Telecom faces customer churn, which negatively impacts revenue and growth, and the company cannot identify in advance which customers are likely to leave.\n",
        "\n",
        "## Objective\n",
        "To develop an ANN-based binary classification model that predicts which customers are likely to churn. To identify at-risk customers using features like call duration, data usage, and contract length. To help ConnectSphere Telecom implement timely retention strategies and reduce churn.\n",
        "\n"
      ],
      "metadata": {
        "id": "V9_qexYM6TJQ"
      }
    },
    {
      "cell_type": "markdown",
      "source": [
        "Step 1: Data Loading"
      ],
      "metadata": {
        "id": "-uKk7UES_3G4"
      }
    },
    {
      "cell_type": "code",
      "source": [
        "import pandas as pd\n",
        "import numpy as np\n",
        "from sklearn.model_selection import train_test_split\n",
        "from sklearn.preprocessing import StandardScaler\n",
        "# ANN Libraries\n",
        "from tensorflow.keras.models import Sequential\n",
        "from tensorflow.keras.layers import Dense, Dropout\n",
        "\n",
        "# Model evaluation\n",
        "from sklearn.metrics import accuracy_score, confusion_matrix, classification_report\n",
        "# for visulation\n",
        "import matplotlib.pyplot as plt\n",
        "#Confusion Matrix Visualization\n",
        "import seaborn as sns\n",
        "\n"
      ],
      "metadata": {
        "id": "VdOEGI4iAxfs"
      },
      "execution_count": null,
      "outputs": []
    },
    {
      "cell_type": "code",
      "source": [
        "# Dataset\n",
        "df = pd.read_csv('https://raw.githubusercontent.com/YBIFoundation/Dataset/refs/heads/main/TelecomCustomerChurn.csv')\n",
        "df.head()"
      ],
      "metadata": {
        "id": "ZG2BjQZzA5vy"
      },
      "execution_count": null,
      "outputs": []
    },
    {
      "cell_type": "code",
      "source": [
        "df.info()"
      ],
      "metadata": {
        "id": "bik71pTJBDLJ"
      },
      "execution_count": null,
      "outputs": []
    },
    {
      "cell_type": "code",
      "source": [
        "# Check for missing values\n",
        "df.isnull().sum()\n"
      ],
      "metadata": {
        "id": "RNqY2gcJBcsM"
      },
      "execution_count": null,
      "outputs": []
    },
    {
      "cell_type": "code",
      "source": [
        "# Summary statistics for numerical columns\n",
        "df.describe()"
      ],
      "metadata": {
        "id": "tW0-Ww2NBoFQ"
      },
      "execution_count": null,
      "outputs": []
    },
    {
      "cell_type": "code",
      "source": [
        "# Check dataset shape\n",
        "df.shape"
      ],
      "metadata": {
        "id": "AbgnBNtVBscP"
      },
      "execution_count": null,
      "outputs": []
    },
    {
      "cell_type": "markdown",
      "source": [
        "**step 2: Data cleaning and processing **"
      ],
      "metadata": {
        "id": "2dM8PvYdDdRB"
      }
    },
    {
      "cell_type": "code",
      "source": [
        "# Check missing values in dataset\n",
        "print(\"Missing values per column:\")\n",
        "print(df.isnull().sum())"
      ],
      "metadata": {
        "id": "_j394DLgDng8"
      },
      "execution_count": null,
      "outputs": []
    },
    {
      "cell_type": "code",
      "source": [
        "# Drop columns not needed for prediction\n",
        "df = df.drop(columns=['customerID'])"
      ],
      "metadata": {
        "id": "hBoUuQK1EKZA"
      },
      "execution_count": null,
      "outputs": []
    },
    {
      "cell_type": "code",
      "source": [
        "# Convert 'Churn' column to binary\n",
        "df['Churn'] = df['Churn'].apply(lambda x: 1 if x=='Yes' else 0)"
      ],
      "metadata": {
        "id": "Fl5BDxMcEPdZ"
      },
      "execution_count": null,
      "outputs": []
    },
    {
      "cell_type": "code",
      "source": [
        "# Convert categorical features to numeric using get_dummies\n",
        "categorical_cols = df.select_dtypes(include='object').columns\n",
        "df = pd.get_dummies(df, columns=categorical_cols, drop_first=True)"
      ],
      "metadata": {
        "id": "kqnPvTa-Eaj4"
      },
      "execution_count": null,
      "outputs": []
    },
    {
      "cell_type": "code",
      "source": [
        "X = df.drop('Churn', axis=1)\n",
        "y = df['Churn']\n"
      ],
      "metadata": {
        "id": "MoPM4nMEEgOh"
      },
      "execution_count": null,
      "outputs": []
    },
    {
      "cell_type": "code",
      "source": [
        "X_train, X_test, y_train, y_test = train_test_split(X, y, test_size=0.2, random_state=42)"
      ],
      "metadata": {
        "id": "mmXnijhlEohz"
      },
      "execution_count": null,
      "outputs": []
    },
    {
      "cell_type": "code",
      "source": [
        "scaler = StandardScaler()\n",
        "X_train = scaler.fit_transform(X_train)\n",
        "X_test = scaler.transform(X_test)"
      ],
      "metadata": {
        "id": "YJCZcLjmEtQV"
      },
      "execution_count": null,
      "outputs": []
    },
    {
      "cell_type": "code",
      "source": [
        "print(\"X_train shape:\", X_train.shape)\n",
        "print(\"X_test shape:\", X_test.shape)\n",
        "print(\"y_train shape:\", y_train.shape)\n",
        "print(\"y_test shape:\", y_test.shape)"
      ],
      "metadata": {
        "id": "1TkS7QF4Exav"
      },
      "execution_count": null,
      "outputs": []
    },
    {
      "cell_type": "markdown",
      "source": [
        "**Step 3:ANN Model Building (Binary Classification)**"
      ],
      "metadata": {
        "id": "_yq0N-BfFiTm"
      }
    },
    {
      "cell_type": "code",
      "source": [
        "# Initialize ANN\n",
        "model = Sequential()\n"
      ],
      "metadata": {
        "id": "pYiLqeSVFs8D"
      },
      "execution_count": null,
      "outputs": []
    },
    {
      "cell_type": "code",
      "source": [
        "# Input layer + first hidden layer\n",
        "model.add(Dense(units=32, activation='relu', input_dim=X_train.shape[1]))"
      ],
      "metadata": {
        "id": "8XaT4MdEFzme"
      },
      "execution_count": null,
      "outputs": []
    },
    {
      "cell_type": "code",
      "source": [
        "# Optional Dropout layer to prevent overfitting\n",
        "model.add(Dropout(0.2))"
      ],
      "metadata": {
        "id": "j_JyBJcgF3sp"
      },
      "execution_count": null,
      "outputs": []
    },
    {
      "cell_type": "code",
      "source": [
        "# Second hidden layer\n",
        "model.add(Dense(units=16, activation='relu'))\n"
      ],
      "metadata": {
        "id": "_pgxYQ8ZF9Zo"
      },
      "execution_count": null,
      "outputs": []
    },
    {
      "cell_type": "code",
      "source": [
        "# Output layer (binary classification)\n",
        "model.add(Dense(units=1, activation='sigmoid'))\n"
      ],
      "metadata": {
        "id": "G5gS49DCGA47"
      },
      "execution_count": null,
      "outputs": []
    },
    {
      "cell_type": "code",
      "source": [
        "# compile the model\n",
        "model.compile(optimizer='adam', loss='binary_crossentropy', metrics=['accuracy'])"
      ],
      "metadata": {
        "id": "GeLui6LBGEpS"
      },
      "execution_count": null,
      "outputs": []
    },
    {
      "cell_type": "code",
      "source": [
        "# Train the Model\n",
        "history = model.fit(X_train, y_train, epochs=50, batch_size=32, validation_split=0.2)\n"
      ],
      "metadata": {
        "id": "zGE6v_JPGPEQ"
      },
      "execution_count": null,
      "outputs": []
    },
    {
      "cell_type": "code",
      "source": [
        "# Evaluate the Model\n",
        "# Predict on test set\n",
        "y_pred_prob = model.predict(X_test)\n",
        "y_pred = (y_pred_prob > 0.5).astype(int)\n",
        "\n",
        "# Accuracy\n",
        "accuracy = accuracy_score(y_test, y_pred)\n",
        "print(\"Test Accuracy:\", accuracy)\n",
        "\n",
        "# Confusion Matrix\n",
        "cm = confusion_matrix(y_test, y_pred)\n",
        "print(\"Confusion Matrix:\\n\", cm)\n",
        "\n",
        "# Classification Report\n",
        "print(\"Classification Report:\\n\", classification_report(y_test, y_pred))"
      ],
      "metadata": {
        "id": "1gLFzncIGX7d"
      },
      "execution_count": null,
      "outputs": []
    },
    {
      "cell_type": "code",
      "source": [
        "# Identify At-Risk Customers\n",
        "# Add prediction to original test data\n",
        "X_test_df = pd.DataFrame(X_test, columns=X.columns)\n",
        "X_test_df['Churn_Prediction'] = y_pred\n",
        "\n",
        "# Filter customers predicted to churn\n",
        "at_risk_customers = X_test_df[X_test_df['Churn_Prediction'] == 1]\n",
        "print(\"Number of at-risk customers:\", at_risk_customers.shape[0])\n"
      ],
      "metadata": {
        "id": "SYliIo4-GxKW"
      },
      "execution_count": null,
      "outputs": []
    },
    {
      "cell_type": "markdown",
      "source": [
        "**Step 4: Visualization of Training & Evaluation Metrics**"
      ],
      "metadata": {
        "id": "xqk61Iz6HMDa"
      }
    },
    {
      "cell_type": "code",
      "source": [
        "# Plot Training & Validation Accuracy\n",
        "plt.figure(figsize=(10,5))\n",
        "plt.plot(history.history['accuracy'], label='Training Accuracy')\n",
        "plt.plot(history.history['val_accuracy'], label='Validation Accuracy')\n",
        "plt.title('ANN Model Accuracy')\n",
        "plt.xlabel('Epochs')\n",
        "plt.ylabel('Accuracy')\n",
        "plt.legend()\n",
        "plt.show()\n"
      ],
      "metadata": {
        "id": "m2Ee3q6dHRwH"
      },
      "execution_count": null,
      "outputs": []
    },
    {
      "cell_type": "code",
      "source": [
        "# Plot Training & Validation Loss\n",
        "plt.figure(figsize=(10,5))\n",
        "plt.plot(history.history['loss'], label='Training Loss')\n",
        "plt.plot(history.history['val_loss'], label='Validation Loss')\n",
        "plt.title('ANN Model Loss')\n",
        "plt.xlabel('Epochs')\n",
        "plt.ylabel('Loss')\n",
        "plt.legend()\n",
        "plt.show()\n"
      ],
      "metadata": {
        "id": "UjWIGr_DHp9q"
      },
      "execution_count": null,
      "outputs": []
    },
    {
      "cell_type": "code",
      "source": [
        "# Confusion Matrix Visualization (Optional)\n",
        "plt.figure(figsize=(6,5))\n",
        "sns.heatmap(cm, annot=True, fmt='d', cmap='Blues')\n",
        "plt.title('Confusion Matrix')\n",
        "plt.xlabel('Predicted')\n",
        "plt.ylabel('Actual')\n",
        "plt.show()\n"
      ],
      "metadata": {
        "id": "xYovsEwyHzu6"
      },
      "execution_count": null,
      "outputs": []
    },
    {
      "cell_type": "code",
      "source": [],
      "metadata": {
        "id": "k0B9C8FNIBe2"
      },
      "execution_count": null,
      "outputs": []
    },
    {
      "cell_type": "markdown",
      "source": [
        "**Step 5: At-Risk Customer Identification & Export**"
      ],
      "metadata": {
        "id": "mV7iE_LrI2pD"
      }
    },
    {
      "cell_type": "code",
      "source": [
        "## Add Predictions to Original Test Data\n",
        "\n",
        "# Convert X_test back to DataFrame for readability\n",
        "X_test_df = pd.DataFrame(X_test, columns=X.columns)\n",
        "\n",
        "# Add actual Churn and predicted Churn columns\n",
        "X_test_df['Actual_Churn'] = y_test.values\n",
        "X_test_df['Predicted_Churn'] = y_pred\n",
        "\n"
      ],
      "metadata": {
        "id": "vKzWAnn8I9JB"
      },
      "execution_count": null,
      "outputs": []
    },
    {
      "cell_type": "code",
      "source": [
        "## Filter At-Risk Customers\n",
        "\n",
        "# Customers predicted to churn\n",
        "at_risk_customers = X_test_df[X_test_df['Predicted_Churn'] == 1]\n",
        "\n",
        "# Check first 5 at-risk customers\n",
        "at_risk_customers.head()\n"
      ],
      "metadata": {
        "id": "IsdlrMI2JWiS"
      },
      "execution_count": null,
      "outputs": []
    },
    {
      "cell_type": "code",
      "source": [
        "## Export At-Risk Customers to CSV\n",
        "\n",
        "# Save at-risk customers to CSV\n",
        "at_risk_customers.to_csv('At_Risk_Customers.csv', index=False)\n",
        "print(\"At-risk customer list exported as 'At_Risk_Customers.csv'\")\n"
      ],
      "metadata": {
        "id": "HO9wGvo3Jk6n"
      },
      "execution_count": null,
      "outputs": []
    },
    {
      "cell_type": "markdown",
      "source": [
        "**Step 6: Insights & Recommendations**"
      ],
      "metadata": {
        "id": "eED2thLHKabd"
      }
    },
    {
      "cell_type": "code",
      "source": [
        "##Analyze At-Risk Customers\n",
        "\n",
        "# Total number of predicted churners\n",
        "num_churners = at_risk_customers.shape[0]\n",
        "print(\"Total At-Risk Customers:\", num_churners)\n",
        "\n",
        "# Optional: Top 5 customers with highest predicted risk (if probability used)\n",
        "# y_pred_prob is available from Step 3\n",
        "at_risk_customers_prob = X_test_df.copy()\n",
        "at_risk_customers_prob['Churn_Probability'] = y_pred_prob\n",
        "top_risk_customers = at_risk_customers_prob.sort_values(by='Churn_Probability', ascending=False).head(5)\n",
        "print(\"\\nTop 5 High-Risk Customers:\\n\", top_risk_customers)"
      ],
      "metadata": {
        "id": "oJULjUoFKjAP"
      },
      "execution_count": null,
      "outputs": []
    },
    {
      "cell_type": "code",
      "source": [
        "## Business Recommendations\n",
        "\n",
        "print(\"\\n--- Business Recommendations ---\")\n",
        "print(\"1. Offer special retention plans or discounts to at-risk customers.\")\n",
        "print(\"2. Provide personalized support or proactive calls to high-risk segments.\")\n",
        "print(\"3. Focus on customers with high tenure but low engagement.\")\n",
        "print(\"4. Analyze features contributing to churn for better strategy planning.\")\n"
      ],
      "metadata": {
        "id": "M7GhdRbPK8s3"
      },
      "execution_count": null,
      "outputs": []
    },
    {
      "cell_type": "code",
      "source": [
        "## Generate Simple Report\n",
        "\n",
        "# Save a summary report as text file\n",
        "with open('Churn_Insights_Report.txt', 'w') as f:\n",
        "    f.write(\"ConnectSphere Telecom - Churn Prediction Insights\\n\")\n",
        "    f.write(\"-------------------------------------------------\\n\")\n",
        "    f.write(f\"Total At-Risk Customers: {num_churners}\\n\")\n",
        "    f.write(\"\\nBusiness Recommendations:\\n\")\n",
        "    f.write(\"1. Offer special retention plans or discounts to at-risk customers.\\n\")\n",
        "    f.write(\"2. Provide personalized support or proactive calls to high-risk segments.\\n\")\n",
        "    f.write(\"3. Focus on customers with high tenure but low engagement.\\n\")\n",
        "    f.write(\"4. Analyze features contributing to churn for better strategy planning.\\n\")\n",
        "\n",
        "print(\"\\nInsights report saved as 'Churn_Insights_Report.txt'\")\n"
      ],
      "metadata": {
        "id": "3ClnOqZsLJfJ"
      },
      "execution_count": null,
      "outputs": []
    },
    {
      "cell_type": "markdown",
      "source": [
        "## Step 7: Project Conclusion & Summary\n",
        "\n",
        "### 7.1 Key Findings\n",
        "- Total At-Risk Customers: 350\n",
        "- Model Accuracy: 0.89\n",
        "- F1-Score: 0.84\n",
        "- Important features influencing churn: Call Duration, Data Usage, Contract Length\n",
        "\n",
        "### 7.2 Business Implications\n",
        "- Targeted retention strategies for at-risk customers (offers, discounts, personalized plans)\n",
        "- Focus on high-risk segments for proactive support\n",
        "- Better resource allocation based on churn prediction\n",
        "\n",
        "### 7.3 Future Improvements\n",
        "- Include more features (call logs, complaints) for better prediction\n",
        "- Try advanced ML models (Random Forest, XGBoost)\n",
        "- Analyze feature importance\n",
        "- Deploy model for real-time churn prediction\n"
      ],
      "metadata": {
        "id": "gL7lQXN8NnVO"
      }
    },
    {
      "cell_type": "code",
      "source": [],
      "metadata": {
        "id": "xV60xyoJNpPN"
      },
      "execution_count": null,
      "outputs": []
    }
  ]
}